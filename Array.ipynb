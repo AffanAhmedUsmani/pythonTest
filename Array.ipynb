{
 "cells": [
  {
   "cell_type": "code",
   "execution_count": 7,
   "metadata": {},
   "outputs": [
    {
     "name": "stdout",
     "output_type": "stream",
     "text": [
      "35\n",
      "[47, 45, 35, 10, 9, 7, 6, 6, 4, 2]\n"
     ]
    }
   ],
   "source": [
    "#bubble sort\n",
    "def find(arrayInt):\n",
    "    for i in range(len(arrayInt)):\n",
    "        for j in range(0,len(arrayInt)-i-1):\n",
    "            if arrayInt[j] < arrayInt[j+1]:\n",
    "                arrayInt[j],arrayInt[j+1] = arrayInt[j+1],arrayInt[j]\n",
    "    \n",
    "    if arrayInt[2] != None:\n",
    "        return arrayInt[2]        \n",
    "    else:\n",
    "        return arrayInt[0]\n",
    "    \n",
    "arrayInt =[6,2,45,4,47,6,7,35,9,10]\n",
    "\n",
    "\n",
    "print(find(arrayInt))\n",
    "print(arrayInt)\n"
   ]
  },
  {
   "cell_type": "code",
   "execution_count": 9,
   "metadata": {},
   "outputs": [
    {
     "name": "stdout",
     "output_type": "stream",
     "text": [
      "[47, 45, 35, 10, 9, 7, 6, 6, 4, 2]\n",
      "[47, 45, 35, 10, 9, 7, 6, 6, 4, 2]\n"
     ]
    }
   ],
   "source": [
    "#insertion sort\n",
    "#Builds the final sorted array one item at a time, with the assumption that the first item is already sorted.\n",
    "\n",
    "def insertionSort(arrayInt):\n",
    "    for i in range(1, len(arrayInt)):\n",
    "        key = arrayInt[i]\n",
    "        j = i-1\n",
    "        while j >=0 and key > arrayInt[j]:\n",
    "            arrayInt[j+1] = arrayInt[j]\n",
    "            j -= 1\n",
    "        arrayInt[j+1] = key\n",
    "    return arrayInt\n",
    "\n",
    "print(insertionSort(arrayInt))\n",
    "print(arrayInt)"
   ]
  },
  {
   "cell_type": "code",
   "execution_count": 10,
   "metadata": {},
   "outputs": [
    {
     "name": "stdout",
     "output_type": "stream",
     "text": [
      "[47, 45, 35, 10, 9, 7, 6, 6, 4, 2]\n",
      "[47, 45, 35, 10, 9, 7, 6, 6, 4, 2]\n"
     ]
    }
   ],
   "source": [
    "#Selection Sort: Divides the input list into two parts: a sorted sublist of items which is built up from left to right at the front (left) of the list, \n",
    "# and a sublist of the remaining unsorted items. It repeatedly selects the smallest\n",
    "# (or largest, depending on sorting order) element from the unsorted sublist and moves it to the sorted sublist..\n",
    "\n",
    "def selectionSort(arrayInt):\n",
    "    for i in range(len(arrayInt)):\n",
    "        min_idx = i\n",
    "        for j in range(i+1, len(arrayInt)):\n",
    "            if arrayInt[min_idx] < arrayInt[j]:\n",
    "                min_idx = j\n",
    "        arrayInt[i],arrayInt[min_idx] =arrayInt[min_idx],arrayInt[i]\n",
    "    \n",
    "    return arrayInt        \n",
    " \n",
    "print(selectionSort(arrayInt))\n",
    "print(arrayInt)       "
   ]
  },
  {
   "cell_type": "code",
   "execution_count": null,
   "metadata": {},
   "outputs": [],
   "source": [
    "#algorithum to determine if a string has all unique charecters \n",
    "Inputstring =input(\"enter string of your choice\")\n",
    "print(len(Inputstring))\n",
    "def is_unique(s):\n",
    "    return len(s) == len(set(s))\n",
    "\n",
    "print(is_unique(Inputstring))\n"
   ]
  }
 ],
 "metadata": {
  "kernelspec": {
   "display_name": "Python 3",
   "language": "python",
   "name": "python3"
  },
  "language_info": {
   "codemirror_mode": {
    "name": "ipython",
    "version": 3
   },
   "file_extension": ".py",
   "mimetype": "text/x-python",
   "name": "python",
   "nbconvert_exporter": "python",
   "pygments_lexer": "ipython3",
   "version": "3.11.6"
  }
 },
 "nbformat": 4,
 "nbformat_minor": 2
}
